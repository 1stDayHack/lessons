{
 "cells": [
  {
   "cell_type": "code",
   "execution_count": 1,
   "metadata": {},
   "outputs": [],
   "source": [
    "%matplotlib inline"
   ]
  },
  {
   "cell_type": "markdown",
   "metadata": {},
   "source": [
    "\n",
    "Training a Classifier\n",
    "=====================\n",
    "\n",
    "This is it. You have seen how to define neural networks, compute loss and make\n",
    "updates to the weights of the network.\n",
    "\n",
    "Now you might be thinking,\n",
    "\n",
    "What about data?\n",
    "----------------\n",
    "\n",
    "Generally, when you have to deal with image, text, audio or video data,\n",
    "you can use standard python packages that load data into a numpy array.\n",
    "Then you can convert this array into a ``torch.*Tensor``.\n",
    "\n",
    "-  For images, packages such as Pillow, OpenCV are useful\n",
    "-  For audio, packages such as scipy and librosa\n",
    "-  For text, either raw Python or Cython based loading, or NLTK and\n",
    "   SpaCy are useful\n",
    "\n",
    "Specifically for vision, we have created a package called\n",
    "``torchvision``, that has data loaders for common datasets such as\n",
    "Imagenet, CIFAR10, MNIST, etc. and data transformers for images, viz.,\n",
    "``torchvision.datasets`` and ``torch.utils.data.DataLoader``.\n",
    "\n",
    "This provides a huge convenience and avoids writing boilerplate code.\n",
    "\n",
    "For this tutorial, we will use the CIFAR10 dataset.\n",
    "It has the classes: ‘airplane’, ‘automobile’, ‘bird’, ‘cat’, ‘deer’,\n",
    "‘dog’, ‘frog’, ‘horse’, ‘ship’, ‘truck’. The images in CIFAR-10 are of\n",
    "size 3x32x32, i.e. 3-channel color images of 32x32 pixels in size.\n",
    "\n",
    ".. figure:: /_static/img/cifar10.png\n",
    "   :alt: cifar10\n",
    "\n",
    "   cifar10\n",
    "\n",
    "\n",
    "Training an image classifier\n",
    "----------------------------\n",
    "\n",
    "We will do the following steps in order:\n",
    "\n",
    "1. Load and normalizing the CIFAR10 training and test datasets using\n",
    "   ``torchvision``\n",
    "2. Define a Convolutional Neural Network\n",
    "3. Define a loss function\n",
    "4. Train the network on the training data\n",
    "5. Test the network on the test data\n",
    "\n",
    "1. Loading and normalizing CIFAR10\n",
    "\n",
    "Using ``torchvision``, it’s extremely easy to load CIFAR10.\n",
    "\n"
   ]
  },
  {
   "cell_type": "markdown",
   "metadata": {},
   "source": [
    "__________________________"
   ]
  },
  {
   "cell_type": "markdown",
   "metadata": {},
   "source": [
    "# Component 1 - Data"
   ]
  },
  {
   "cell_type": "code",
   "execution_count": 2,
   "metadata": {},
   "outputs": [],
   "source": [
    "import torch\n",
    "import torchvision\n",
    "import torchvision.transforms as transforms"
   ]
  },
  {
   "cell_type": "markdown",
   "metadata": {},
   "source": [
    "The output of torchvision datasets are PILImage images of range [0, 1].\n",
    "We transform them to Tensors of normalized range [-1, 1].\n",
    "<div class=\"alert alert-info\"><h4>Note</h4><p>If running on Windows and you get a BrokenPipeError, try setting\n",
    "    the num_worker of torch.utils.data.DataLoader() to 0.</p></div>\n",
    "\n"
   ]
  },
  {
   "cell_type": "markdown",
   "metadata": {},
   "source": [
    "**1. Fetch and Load Dataset**"
   ]
  },
  {
   "cell_type": "code",
   "execution_count": 91,
   "metadata": {},
   "outputs": [
    {
     "name": "stdout",
     "output_type": "stream",
     "text": [
      "Files already downloaded and verified\n",
      "Files already downloaded and verified\n"
     ]
    }
   ],
   "source": [
    "transform = transforms.Compose(\n",
    "    [transforms.ToTensor(),\n",
    "     transforms.Normalize((0.5, 0.5, 0.5), (0.5, 0.5, 0.5))])\n",
    "\n",
    "trainset = torchvision.datasets.CIFAR10(root='./data', train=True,\n",
    "                                        download=True, transform=transform)\n",
    "trainloader = torch.utils.data.DataLoader(trainset, batch_size=4,\n",
    "                                          shuffle=True, num_workers=2)\n",
    "\n",
    "testset = torchvision.datasets.CIFAR10(root='./data', train=False,\n",
    "                                       download=True, transform=transform)\n",
    "testloader = torch.utils.data.DataLoader(testset, batch_size=4,\n",
    "                                         shuffle=False, num_workers=2)\n",
    "\n",
    "classes = ('plane', 'car', 'bird', 'cat',\n",
    "           'deer', 'dog', 'frog', 'horse', 'ship', 'truck')"
   ]
  },
  {
   "cell_type": "markdown",
   "metadata": {},
   "source": [
    "### CIFAR-10 and CIFAR-100\n",
    "The CIFAR-10 and CIFAR-100 are labeled subsets of the 80 million tiny images dataset. They were collected by Alex Krizhevsky, Vinod Nair, and Geoffrey Hinton.\n",
    "The CIFAR-10 dataset\n",
    "The CIFAR-10 dataset consists of 60000 32x32 colour images in 10 classes, with 6000 images per class. There are 50000 training images and 10000 test images.\n",
    "\n",
    "The dataset is divided into five training batches and one test batch, each with 10000 images. The test batch contains exactly 1000 randomly-selected images from each class. The training batches contain the remaining images in random order, but some training batches may contain more images from one class than another. Between them, the training batches contain exactly 5000 images from each class."
   ]
  },
  {
   "cell_type": "markdown",
   "metadata": {},
   "source": [
    "Let us show some of the training images, for fun.\n",
    "\n"
   ]
  },
  {
   "cell_type": "code",
   "execution_count": 92,
   "metadata": {},
   "outputs": [
    {
     "data": {
      "image/png": "[encoded data removed]",
      "text/plain": [
       "<matplotlib.figure.Figure at 0x7f2111c305f8>"
      ]
     },
     "metadata": {
      "needs_background": "light"
     },
     "output_type": "display_data"
    },
    {
     "name": "stdout",
     "output_type": "stream",
     "text": [
      " frog  deer   car   dog\n"
     ]
    }
   ],
   "source": [
    "import matplotlib.pyplot as plt\n",
    "import numpy as np\n",
    "\n",
    "# functions to show an image\n",
    "\n",
    "\n",
    "def imshow(img):\n",
    "    img = img / 2 + 0.5     # unnormalize\n",
    "    npimg = img.numpy()\n",
    "    plt.imshow(np.transpose(npimg, (1, 2, 0)))\n",
    "    plt.show()\n",
    "\n",
    "\n",
    "# get some random training images\n",
    "dataiter = iter(trainloader)\n",
    "images, labels = dataiter.next()\n",
    "\n",
    "# show images\n",
    "imshow(torchvision.utils.make_grid(images))\n",
    "# print labels\n",
    "print(' '.join('%5s' % classes[labels[j]] for j in range(4)))"
   ]
  },
  {
   "cell_type": "markdown",
   "metadata": {},
   "source": [
    "# Component 2 - Model and Loss Function"
   ]
  },
  {
   "cell_type": "markdown",
   "metadata": {},
   "source": [
    "**Define a Convolutional Neural Network<br>**\n",
    "Copy the neural network from the Neural Networks section before and modify it to\n",
    "take 3-channel images (instead of 1-channel images as it was defined).\n",
    "\n"
   ]
  },
  {
   "cell_type": "code",
   "execution_count": 8,
   "metadata": {},
   "outputs": [],
   "source": [
    "import torch.nn as nn\n",
    "import torch.nn.functional as F\n",
    "\n",
    "\n",
    "class Net(nn.Module):\n",
    "    def __init__(self):\n",
    "        super(Net, self).__init__()\n",
    "        self.conv1 = nn.Conv2d(3, 6, 5)\n",
    "        self.pool = nn.MaxPool2d(2, 2)\n",
    "        self.conv2 = nn.Conv2d(6, 16, 5)\n",
    "        self.fc1 = nn.Linear(16 * 5 * 5, 120)\n",
    "        self.fc2 = nn.Linear(120, 84)\n",
    "        self.fc3 = nn.Linear(84, 10)\n",
    "\n",
    "    def forward(self, x):\n",
    "        x = self.pool(F.relu(self.conv1(x)))\n",
    "        x = self.pool(F.relu(self.conv2(x)))\n",
    "        x = x.view(-1, 16 * 5 * 5)\n",
    "        x = F.relu(self.fc1(x))\n",
    "        x = F.relu(self.fc2(x))\n",
    "        x = self.fc3(x)\n",
    "        return x\n",
    "\n",
    "\n",
    "net = Net()"
   ]
  },
  {
   "cell_type": "markdown",
   "metadata": {},
   "source": [
    "**Define a Loss function and optimizer**<BR>\n",
    "Let's use a Classification Cross-Entropy loss and SGD with momentum.\n",
    "\n"
   ]
  },
  {
   "cell_type": "code",
   "execution_count": 9,
   "metadata": {},
   "outputs": [],
   "source": [
    "import torch.optim as optim\n",
    "\n",
    "criterion = nn.CrossEntropyLoss()\n",
    "optimizer = optim.SGD(net.parameters(), lr=0.001, momentum=0.9)"
   ]
  },
  {
   "cell_type": "markdown",
   "metadata": {},
   "source": [
    "# Component 3 - Optimization through Training"
   ]
  },
  {
   "cell_type": "markdown",
   "metadata": {},
   "source": [
    "**Train the network**<br>\n",
    "\n",
    "This is when things start to get interesting.\n",
    "We simply have to loop over our data iterator, and feed the inputs to the\n",
    "network and optimize.\n",
    "\n"
   ]
  },
  {
   "cell_type": "code",
   "execution_count": 10,
   "metadata": {},
   "outputs": [
    {
     "name": "stdout",
     "output_type": "stream",
     "text": [
      "[1,  2000] loss: 2.218\n",
      "[1,  4000] loss: 1.869\n",
      "[1,  6000] loss: 1.678\n",
      "[1,  8000] loss: 1.583\n",
      "[1, 10000] loss: 1.524\n",
      "[1, 12000] loss: 1.486\n",
      "[2,  2000] loss: 1.394\n",
      "[2,  4000] loss: 1.376\n",
      "[2,  6000] loss: 1.350\n",
      "[2,  8000] loss: 1.312\n",
      "[2, 10000] loss: 1.295\n",
      "[2, 12000] loss: 1.280\n",
      "Finished Training\n"
     ]
    }
   ],
   "source": [
    "for epoch in range(2):  # loop over the dataset multiple times\n",
    "\n",
    "    running_loss = 0.0\n",
    "    for i, data in enumerate(trainloader, 0):\n",
    "        # get the inputs; data is a list of [inputs, labels]\n",
    "        inputs, labels = data\n",
    "\n",
    "        # zero the parameter gradients\n",
    "        optimizer.zero_grad()\n",
    "\n",
    "        # forward + backward + optimize\n",
    "        outputs = net(inputs)\n",
    "        loss = criterion(outputs, labels)\n",
    "        loss.backward()\n",
    "        optimizer.step()\n",
    "\n",
    "        # print statistics\n",
    "        running_loss += loss.item()\n",
    "        if i % 2000 == 1999:    # print every 2000 mini-batches\n",
    "            print('[Epoch: %d | Iteration: %5d] Loss: %.3f' %\n",
    "                  (epoch + 1, i + 1, running_loss / 2000))\n",
    "            running_loss = 0.0\n",
    "\n",
    "print('Finished Training')"
   ]
  },
  {
   "cell_type": "markdown",
   "metadata": {},
   "source": [
    "Let's quickly save our trained model:\n",
    "\n"
   ]
  },
  {
   "cell_type": "code",
   "execution_count": null,
   "metadata": {},
   "outputs": [],
   "source": [
    "PATH = './cifar_net.pth'\n",
    "torch.save(net.state_dict(), PATH)"
   ]
  },
  {
   "cell_type": "markdown",
   "metadata": {},
   "source": [
    "See `here <https://pytorch.org/docs/stable/notes/serialization.html>`_\n",
    "for more details on saving PyTorch models."
   ]
  },
  {
   "cell_type": "markdown",
   "metadata": {},
   "source": [
    "# Component 4 - Analysis and Evaluation"
   ]
  },
  {
   "cell_type": "markdown",
   "metadata": {},
   "source": [
    "**Test the network on the test data**<br>\n",
    "\n",
    "We have trained the network for 2 passes over the training dataset.\n",
    "But we need to check if the network has learnt anything at all.\n",
    "\n",
    "We will check this by predicting the class label that the neural network\n",
    "outputs, and checking it against the ground-truth. If the prediction is\n",
    "correct, we add the sample to the list of correct predictions.\n",
    "\n",
    "Okay, first step. Let us display an image from the test set to get familiar.\n",
    "\n"
   ]
  },
  {
   "cell_type": "code",
   "execution_count": 12,
   "metadata": {},
   "outputs": [
    {
     "data": {
      "image/png": "[encoded data removed]",
      "text/plain": [
       "<matplotlib.figure.Figure at 0x7f20ae493f60>"
      ]
     },
     "metadata": {
      "needs_background": "light"
     },
     "output_type": "display_data"
    },
    {
     "name": "stdout",
     "output_type": "stream",
     "text": [
      "GroundTruth:    cat  ship  ship plane\n"
     ]
    }
   ],
   "source": [
    "dataiter = iter(testloader)\n",
    "images, labels = dataiter.next()\n",
    "\n",
    "# print images\n",
    "imshow(torchvision.utils.make_grid(images))\n",
    "print('GroundTruth: ', ' '.join('%5s' % classes[labels[j]] for j in range(4)))"
   ]
  },
  {
   "cell_type": "markdown",
   "metadata": {},
   "source": [
    "Next, let's load back in our saved model (note: saving and re-loading the model\n",
    "wasn't necessary here, we only did it to illustrate how to do so):\n",
    "\n"
   ]
  },
  {
   "cell_type": "code",
   "execution_count": 13,
   "metadata": {},
   "outputs": [
    {
     "data": {
      "text/plain": [
       "<All keys matched successfully>"
      ]
     },
     "execution_count": 13,
     "metadata": {},
     "output_type": "execute_result"
    }
   ],
   "source": [
    "net = Net()\n",
    "net.load_state_dict(torch.load(PATH))"
   ]
  },
  {
   "cell_type": "markdown",
   "metadata": {},
   "source": [
    "Okay, now let us see what the neural network thinks these examples above are:\n",
    "\n"
   ]
  },
  {
   "cell_type": "code",
   "execution_count": 16,
   "metadata": {},
   "outputs": [],
   "source": [
    "outputs = net(images)"
   ]
  },
  {
   "cell_type": "markdown",
   "metadata": {},
   "source": [
    "The outputs are energies for the 10 classes.\n",
    "The higher the energy for a class, the more the network\n",
    "thinks that the image is of the particular class.\n",
    "So, let's get the index of the highest energy:\n",
    "\n"
   ]
  },
  {
   "cell_type": "code",
   "execution_count": 18,
   "metadata": {},
   "outputs": [
    {
     "data": {
      "text/plain": [
       "tensor([[-1.1473, -1.5450,  0.3867,  1.4538, -0.1260,  0.9566,  3.0101, -1.0716,\n",
       "         -0.8244, -0.4369],\n",
       "        [ 4.2076,  3.8899, -1.5948, -2.6187, -2.3389, -3.8678, -2.9925, -5.6026,\n",
       "          6.8298,  3.7525],\n",
       "        [ 1.5389,  2.5092, -0.9959, -0.8798, -1.4715, -1.7371, -1.0862, -2.9155,\n",
       "          3.0255,  1.9849],\n",
       "        [ 2.7641,  0.4698,  0.3758, -1.2390, -1.4637, -2.4112, -1.4572, -2.7859,\n",
       "          4.7658,  0.9219]], grad_fn=<AddmmBackward>)"
      ]
     },
     "execution_count": 18,
     "metadata": {},
     "output_type": "execute_result"
    }
   ],
   "source": [
    "#Look at the raw outputs\n",
    "outputs"
   ]
  },
  {
   "cell_type": "code",
   "execution_count": 19,
   "metadata": {},
   "outputs": [
    {
     "data": {
      "text/plain": [
       "torch.Size([4, 10])"
      ]
     },
     "execution_count": 19,
     "metadata": {},
     "output_type": "execute_result"
    }
   ],
   "source": [
    "outputs.shape"
   ]
  },
  {
   "cell_type": "markdown",
   "metadata": {},
   "source": [
    "Basically prediction for 4 images (batch size of 4) and a output vector of 10 (10 possible classes)."
   ]
  },
  {
   "cell_type": "code",
   "execution_count": 20,
   "metadata": {},
   "outputs": [
    {
     "name": "stdout",
     "output_type": "stream",
     "text": [
      "Predicted:   frog  ship  ship  ship\n"
     ]
    }
   ],
   "source": [
    "_, predicted = torch.max(outputs, 1)\n",
    "\n",
    "print('Predicted: ', ' '.join('%5s' % classes[predicted[j]]\n",
    "                              for j in range(4)))"
   ]
  },
  {
   "cell_type": "markdown",
   "metadata": {},
   "source": [
    "The results seem pretty good.\n",
    "\n",
    "Let us look at how the network performs on the whole dataset.\n",
    "\n"
   ]
  },
  {
   "cell_type": "code",
   "execution_count": 21,
   "metadata": {},
   "outputs": [
    {
     "name": "stdout",
     "output_type": "stream",
     "text": [
      "Accuracy of the network on the 10000 test images: 54 %\n"
     ]
    }
   ],
   "source": [
    "#Evaluate\n",
    "correct = 0\n",
    "total = 0\n",
    "with torch.no_grad():\n",
    "    for data in testloader:\n",
    "        images, labels = data\n",
    "        outputs = net(images)\n",
    "        _, predicted = torch.max(outputs.data, 1)\n",
    "        total += labels.size(0)\n",
    "        correct += (predicted == labels).sum().item()\n",
    "\n",
    "print('Accuracy of the network on the 10000 test images: %d %%' % (\n",
    "    100 * correct / total))"
   ]
  },
  {
   "cell_type": "markdown",
   "metadata": {},
   "source": [
    "That looks way better than chance, which is 10% accuracy (randomly picking\n",
    "a class out of 10 classes).\n",
    "Seems like the network learnt something.\n",
    "\n",
    "Hmmm, what are the classes that performed well, and the classes that did\n",
    "not perform well:\n",
    "\n"
   ]
  },
  {
   "cell_type": "code",
   "execution_count": 22,
   "metadata": {},
   "outputs": [
    {
     "name": "stdout",
     "output_type": "stream",
     "text": [
      "Accuracy of plane : 59 %\n",
      "Accuracy of   car : 66 %\n",
      "Accuracy of  bird : 42 %\n",
      "Accuracy of   cat : 23 %\n",
      "Accuracy of  deer : 29 %\n",
      "Accuracy of   dog : 36 %\n",
      "Accuracy of  frog : 86 %\n",
      "Accuracy of horse : 63 %\n",
      "Accuracy of  ship : 72 %\n",
      "Accuracy of truck : 64 %\n"
     ]
    }
   ],
   "source": [
    "class_correct = list(0. for i in range(10))\n",
    "class_total = list(0. for i in range(10))\n",
    "with torch.no_grad():\n",
    "    for data in testloader:\n",
    "        images, labels = data\n",
    "        outputs = net(images)\n",
    "        _, predicted = torch.max(outputs, 1)\n",
    "        c = (predicted == labels).squeeze()\n",
    "        for i in range(4):\n",
    "            label = labels[i]\n",
    "            class_correct[label] += c[i].item()\n",
    "            class_total[label] += 1\n",
    "\n",
    "\n",
    "for i in range(10):\n",
    "    print('Accuracy of %5s : %2d %%' % (\n",
    "        classes[i], 100 * class_correct[i] / class_total[i]))"
   ]
  },
  {
   "cell_type": "markdown",
   "metadata": {},
   "source": [
    "Okay, so what next?\n",
    "\n",
    "How do we run these neural networks on the GPU?\n",
    "\n",
    "Training on GPU\n",
    "----------------\n",
    "Just like how you transfer a Tensor onto the GPU, you transfer the neural\n",
    "net onto the GPU.\n",
    "\n",
    "Let's first define our device as the first visible cuda device if we have\n",
    "CUDA available:\n",
    "\n"
   ]
  },
  {
   "cell_type": "code",
   "execution_count": 24,
   "metadata": {},
   "outputs": [
    {
     "name": "stdout",
     "output_type": "stream",
     "text": [
      "cuda:0\n"
     ]
    }
   ],
   "source": [
    "device = torch.device(\"cuda:0\" if torch.cuda.is_available() else \"cpu\")\n",
    "\n",
    "# Assuming that we are on a CUDA machine, this should print a CUDA device:\n",
    "\n",
    "print(device)"
   ]
  },
  {
   "cell_type": "markdown",
   "metadata": {},
   "source": [
    "The rest of this section assumes that ``device`` is a CUDA device.\n",
    "\n",
    "Then these methods will recursively go over all modules and convert their\n",
    "parameters and buffers to CUDA tensors:\n",
    "\n",
    ".. code:: python\n",
    "\n",
    "    net.to(device)\n",
    "\n",
    "\n",
    "Remember that you will have to send the inputs and targets at every step\n",
    "to the GPU too:\n",
    "\n",
    ".. code:: python\n",
    "\n",
    "        inputs, labels = data[0].to(device), data[1].to(device)\n",
    "\n",
    "Why dont I notice MASSIVE speedup compared to CPU? Because your network\n",
    "is really small.\n",
    "\n",
    "**Exercise:** Try increasing the width of your network (argument 2 of\n",
    "the first ``nn.Conv2d``, and argument 1 of the second ``nn.Conv2d`` –\n",
    "they need to be the same number), see what kind of speedup you get.\n",
    "\n",
    "**Goals achieved**:\n",
    "\n",
    "- Understanding PyTorch's Tensor library and neural networks at a high level.\n",
    "- Train a small neural network to classify images\n",
    "\n",
    "Training on multiple GPUs\n",
    "-------------------------\n",
    "If you want to see even more MASSIVE speedup using all of your GPUs,\n",
    "please check out :doc:`data_parallel_tutorial`.\n",
    "\n",
    "Where do I go next?\n",
    "-------------------\n",
    "\n",
    "-  :doc:`Train neural nets to play video games </intermediate/reinforcement_q_learning>`\n",
    "-  `Train a state-of-the-art ResNet network on imagenet`_\n",
    "-  `Train a face generator using Generative Adversarial Networks`_\n",
    "-  `Train a word-level language model using Recurrent LSTM networks`_\n",
    "-  `More examples`_\n",
    "-  `More tutorials`_\n",
    "-  `Discuss PyTorch on the Forums`_\n",
    "-  `Chat with other users on Slack`_\n",
    "\n",
    "\n"
   ]
  },
  {
   "cell_type": "markdown",
   "metadata": {},
   "source": [
    "_____________________________\n"
   ]
  },
  {
   "cell_type": "markdown",
   "metadata": {},
   "source": [
    "## Bonus: Finetune"
   ]
  },
  {
   "cell_type": "code",
   "execution_count": 70,
   "metadata": {},
   "outputs": [],
   "source": [
    "#Write net to cuda\n",
    "\n",
    "class Net(nn.Module):\n",
    "    def __init__(self):\n",
    "        super(Net, self).__init__()\n",
    "        self.conv1 = nn.Conv2d(3, 64, 5)\n",
    "        self.pool = nn.MaxPool2d(2, 2)\n",
    "        self.conv2 = nn.Conv2d(64, 16, 5)\n",
    "        self.fc1 = nn.Linear(16 * 5 * 5, 256)\n",
    "        self.fc2 = nn.Linear(256, 256)\n",
    "        self.fc3 = nn.Linear(256, 10)\n",
    "\n",
    "    def forward(self, x):\n",
    "        x = self.pool(F.relu(self.conv1(x)))\n",
    "        x = self.pool(F.relu(self.conv2(x)))\n",
    "        x = x.view(-1, 16 * 5 * 5)\n",
    "        x = F.relu(self.fc1(x))\n",
    "        x = F.relu(self.fc2(x))\n",
    "        x = self.fc3(x)\n",
    "        return x\n",
    "    \n",
    "net = Net().cuda().train()\n",
    "optimizer = optim.SGD(net.parameters(), lr=0.001, momentum=0.9)"
   ]
  },
  {
   "cell_type": "code",
   "execution_count": 71,
   "metadata": {},
   "outputs": [],
   "source": [
    "#Reconfigure dataloaders\n",
    "trainloader = torch.utils.data.DataLoader(trainset, batch_size=64,\n",
    "                                          shuffle=True, num_workers=6)\n",
    "testloader = torch.utils.data.DataLoader(testset, batch_size=64,\n",
    "                                         shuffle=False, num_workers=6)"
   ]
  },
  {
   "cell_type": "code",
   "execution_count": 81,
   "metadata": {
    "scrolled": true
   },
   "outputs": [
    {
     "name": "stdout",
     "output_type": "stream",
     "text": [
      "[Epoch: 1 | Iteration:     1] Loss: 0.000\n",
      "[Epoch: 1 | Iteration:   101] Loss: 0.000\n",
      "[Epoch: 1 | Iteration:   201] Loss: 0.000\n",
      "[Epoch: 1 | Iteration:   301] Loss: 0.000\n",
      "[Epoch: 1 | Iteration:   401] Loss: 0.000\n",
      "[Epoch: 1 | Iteration:   501] Loss: 0.000\n",
      "[Epoch: 1 | Iteration:   601] Loss: 0.000\n",
      "[Epoch: 1 | Iteration:   701] Loss: 0.000\n",
      "[Epoch: 2 | Iteration:     1] Loss: 0.000\n",
      "[Epoch: 2 | Iteration:   101] Loss: 0.000\n",
      "[Epoch: 2 | Iteration:   201] Loss: 0.000\n",
      "[Epoch: 2 | Iteration:   301] Loss: 0.000\n",
      "[Epoch: 2 | Iteration:   401] Loss: 0.000\n",
      "[Epoch: 2 | Iteration:   501] Loss: 0.000\n",
      "[Epoch: 2 | Iteration:   601] Loss: 0.000\n",
      "[Epoch: 2 | Iteration:   701] Loss: 0.000\n",
      "[Epoch: 3 | Iteration:     1] Loss: 0.000\n",
      "[Epoch: 3 | Iteration:   101] Loss: 0.000\n",
      "[Epoch: 3 | Iteration:   201] Loss: 0.000\n",
      "[Epoch: 3 | Iteration:   301] Loss: 0.000\n",
      "[Epoch: 3 | Iteration:   401] Loss: 0.000\n",
      "[Epoch: 3 | Iteration:   501] Loss: 0.000\n",
      "[Epoch: 3 | Iteration:   601] Loss: 0.000\n",
      "[Epoch: 3 | Iteration:   701] Loss: 0.000\n",
      "[Epoch: 4 | Iteration:     1] Loss: 0.000\n",
      "[Epoch: 4 | Iteration:   101] Loss: 0.000\n",
      "[Epoch: 4 | Iteration:   201] Loss: 0.000\n",
      "[Epoch: 4 | Iteration:   301] Loss: 0.000\n",
      "[Epoch: 4 | Iteration:   401] Loss: 0.000\n",
      "[Epoch: 4 | Iteration:   501] Loss: 0.000\n",
      "[Epoch: 4 | Iteration:   601] Loss: 0.000\n",
      "[Epoch: 4 | Iteration:   701] Loss: 0.000\n",
      "[Epoch: 5 | Iteration:     1] Loss: 0.000\n",
      "[Epoch: 5 | Iteration:   101] Loss: 0.000\n",
      "[Epoch: 5 | Iteration:   201] Loss: 0.000\n",
      "[Epoch: 5 | Iteration:   301] Loss: 0.000\n",
      "[Epoch: 5 | Iteration:   401] Loss: 0.000\n",
      "[Epoch: 5 | Iteration:   501] Loss: 0.000\n",
      "[Epoch: 5 | Iteration:   601] Loss: 0.000\n",
      "[Epoch: 5 | Iteration:   701] Loss: 0.000\n",
      "[Epoch: 6 | Iteration:     1] Loss: 0.000\n",
      "[Epoch: 6 | Iteration:   101] Loss: 0.000\n",
      "[Epoch: 6 | Iteration:   201] Loss: 0.000\n",
      "[Epoch: 6 | Iteration:   301] Loss: 0.000\n",
      "[Epoch: 6 | Iteration:   401] Loss: 0.000\n",
      "[Epoch: 6 | Iteration:   501] Loss: 0.000\n",
      "[Epoch: 6 | Iteration:   601] Loss: 0.000\n",
      "[Epoch: 6 | Iteration:   701] Loss: 0.000\n",
      "[Epoch: 7 | Iteration:     1] Loss: 0.000\n",
      "[Epoch: 7 | Iteration:   101] Loss: 0.000\n",
      "[Epoch: 7 | Iteration:   201] Loss: 0.000\n",
      "[Epoch: 7 | Iteration:   301] Loss: 0.000\n",
      "[Epoch: 7 | Iteration:   401] Loss: 0.000\n",
      "[Epoch: 7 | Iteration:   501] Loss: 0.000\n",
      "[Epoch: 7 | Iteration:   601] Loss: 0.000\n",
      "[Epoch: 7 | Iteration:   701] Loss: 0.000\n",
      "[Epoch: 8 | Iteration:     1] Loss: 0.000\n",
      "[Epoch: 8 | Iteration:   101] Loss: 0.000\n",
      "[Epoch: 8 | Iteration:   201] Loss: 0.000\n",
      "[Epoch: 8 | Iteration:   301] Loss: 0.000\n",
      "[Epoch: 8 | Iteration:   401] Loss: 0.000\n",
      "[Epoch: 8 | Iteration:   501] Loss: 0.000\n",
      "[Epoch: 8 | Iteration:   601] Loss: 0.000\n",
      "[Epoch: 8 | Iteration:   701] Loss: 0.000\n",
      "[Epoch: 9 | Iteration:     1] Loss: 0.000\n",
      "[Epoch: 9 | Iteration:   101] Loss: 0.000\n",
      "[Epoch: 9 | Iteration:   201] Loss: 0.000\n",
      "[Epoch: 9 | Iteration:   301] Loss: 0.000\n",
      "[Epoch: 9 | Iteration:   401] Loss: 0.000\n",
      "[Epoch: 9 | Iteration:   501] Loss: 0.000\n",
      "[Epoch: 9 | Iteration:   601] Loss: 0.000\n",
      "[Epoch: 9 | Iteration:   701] Loss: 0.000\n",
      "[Epoch: 10 | Iteration:     1] Loss: 0.000\n",
      "[Epoch: 10 | Iteration:   101] Loss: 0.000\n",
      "[Epoch: 10 | Iteration:   201] Loss: 0.000\n",
      "[Epoch: 10 | Iteration:   301] Loss: 0.000\n",
      "[Epoch: 10 | Iteration:   401] Loss: 0.000\n",
      "[Epoch: 10 | Iteration:   501] Loss: 0.000\n",
      "[Epoch: 10 | Iteration:   601] Loss: 0.000\n",
      "[Epoch: 10 | Iteration:   701] Loss: 0.000\n",
      "[Epoch: 11 | Iteration:     1] Loss: 0.000\n",
      "[Epoch: 11 | Iteration:   101] Loss: 0.000\n",
      "[Epoch: 11 | Iteration:   201] Loss: 0.000\n",
      "[Epoch: 11 | Iteration:   301] Loss: 0.000\n",
      "[Epoch: 11 | Iteration:   401] Loss: 0.000\n",
      "[Epoch: 11 | Iteration:   501] Loss: 0.000\n",
      "[Epoch: 11 | Iteration:   601] Loss: 0.000\n",
      "[Epoch: 11 | Iteration:   701] Loss: 0.000\n",
      "[Epoch: 12 | Iteration:     1] Loss: 0.000\n",
      "[Epoch: 12 | Iteration:   101] Loss: 0.000\n",
      "[Epoch: 12 | Iteration:   201] Loss: 0.000\n",
      "[Epoch: 12 | Iteration:   301] Loss: 0.000\n",
      "[Epoch: 12 | Iteration:   401] Loss: 0.000\n",
      "[Epoch: 12 | Iteration:   501] Loss: 0.000\n",
      "[Epoch: 12 | Iteration:   601] Loss: 0.000\n",
      "[Epoch: 12 | Iteration:   701] Loss: 0.000\n",
      "[Epoch: 13 | Iteration:     1] Loss: 0.000\n",
      "[Epoch: 13 | Iteration:   101] Loss: 0.000\n",
      "[Epoch: 13 | Iteration:   201] Loss: 0.000\n",
      "[Epoch: 13 | Iteration:   301] Loss: 0.000\n",
      "[Epoch: 13 | Iteration:   401] Loss: 0.000\n",
      "[Epoch: 13 | Iteration:   501] Loss: 0.000\n",
      "[Epoch: 13 | Iteration:   601] Loss: 0.000\n",
      "[Epoch: 13 | Iteration:   701] Loss: 0.000\n",
      "[Epoch: 14 | Iteration:     1] Loss: 0.000\n",
      "[Epoch: 14 | Iteration:   101] Loss: 0.000\n",
      "[Epoch: 14 | Iteration:   201] Loss: 0.000\n",
      "[Epoch: 14 | Iteration:   301] Loss: 0.000\n",
      "[Epoch: 14 | Iteration:   401] Loss: 0.000\n",
      "[Epoch: 14 | Iteration:   501] Loss: 0.000\n",
      "[Epoch: 14 | Iteration:   601] Loss: 0.000\n",
      "[Epoch: 14 | Iteration:   701] Loss: 0.000\n",
      "[Epoch: 15 | Iteration:     1] Loss: 0.000\n",
      "[Epoch: 15 | Iteration:   101] Loss: 0.000\n",
      "[Epoch: 15 | Iteration:   201] Loss: 0.000\n",
      "[Epoch: 15 | Iteration:   301] Loss: 0.000\n",
      "[Epoch: 15 | Iteration:   401] Loss: 0.000\n",
      "[Epoch: 15 | Iteration:   501] Loss: 0.000\n",
      "[Epoch: 15 | Iteration:   601] Loss: 0.000\n",
      "[Epoch: 15 | Iteration:   701] Loss: 0.000\n",
      "[Epoch: 16 | Iteration:     1] Loss: 0.000\n",
      "[Epoch: 16 | Iteration:   101] Loss: 0.000\n",
      "[Epoch: 16 | Iteration:   201] Loss: 0.000\n",
      "[Epoch: 16 | Iteration:   301] Loss: 0.000\n",
      "[Epoch: 16 | Iteration:   401] Loss: 0.000\n",
      "[Epoch: 16 | Iteration:   501] Loss: 0.000\n",
      "[Epoch: 16 | Iteration:   601] Loss: 0.000\n",
      "[Epoch: 16 | Iteration:   701] Loss: 0.000\n",
      "[Epoch: 17 | Iteration:     1] Loss: 0.000\n",
      "[Epoch: 17 | Iteration:   101] Loss: 0.000\n",
      "[Epoch: 17 | Iteration:   201] Loss: 0.000\n",
      "[Epoch: 17 | Iteration:   301] Loss: 0.000\n",
      "[Epoch: 17 | Iteration:   401] Loss: 0.000\n",
      "[Epoch: 17 | Iteration:   501] Loss: 0.000\n",
      "[Epoch: 17 | Iteration:   601] Loss: 0.000\n",
      "[Epoch: 17 | Iteration:   701] Loss: 0.000\n",
      "[Epoch: 18 | Iteration:     1] Loss: 0.000\n",
      "[Epoch: 18 | Iteration:   101] Loss: 0.000\n",
      "[Epoch: 18 | Iteration:   201] Loss: 0.000\n",
      "[Epoch: 18 | Iteration:   301] Loss: 0.000\n",
      "[Epoch: 18 | Iteration:   401] Loss: 0.000\n",
      "[Epoch: 18 | Iteration:   501] Loss: 0.000\n",
      "[Epoch: 18 | Iteration:   601] Loss: 0.000\n",
      "[Epoch: 18 | Iteration:   701] Loss: 0.000\n",
      "[Epoch: 19 | Iteration:     1] Loss: 0.000\n",
      "[Epoch: 19 | Iteration:   101] Loss: 0.000\n",
      "[Epoch: 19 | Iteration:   201] Loss: 0.000\n",
      "[Epoch: 19 | Iteration:   301] Loss: 0.000\n",
      "[Epoch: 19 | Iteration:   401] Loss: 0.000\n",
      "[Epoch: 19 | Iteration:   501] Loss: 0.000\n",
      "[Epoch: 19 | Iteration:   601] Loss: 0.000\n",
      "[Epoch: 19 | Iteration:   701] Loss: 0.000\n",
      "[Epoch: 20 | Iteration:     1] Loss: 0.000\n",
      "[Epoch: 20 | Iteration:   101] Loss: 0.000\n",
      "[Epoch: 20 | Iteration:   201] Loss: 0.000\n",
      "[Epoch: 20 | Iteration:   301] Loss: 0.000\n",
      "[Epoch: 20 | Iteration:   401] Loss: 0.000\n",
      "[Epoch: 20 | Iteration:   501] Loss: 0.000\n",
      "[Epoch: 20 | Iteration:   601] Loss: 0.000\n",
      "[Epoch: 20 | Iteration:   701] Loss: 0.000\n",
      "Finished Training\n"
     ]
    }
   ],
   "source": [
    "#Let's run for 10 epochs - 10 loops over entire dataset.\n",
    "\n",
    "for epoch in range(20):  # loop over the dataset multiple times\n",
    "\n",
    "    running_loss = 0.0\n",
    "    for i, data in enumerate(trainloader, 0):\n",
    "        # get the inputs; data is a list of [inputs, labels]\n",
    "        inputs, labels = data\n",
    "\n",
    "        # zero the parameter gradients\n",
    "        optimizer.zero_grad()\n",
    "\n",
    "        # forward + backward + optimize\n",
    "        outputs = net(inputs.cuda())\n",
    "        loss = criterion(outputs.cuda(), labels.cuda())\n",
    "        loss.backward()\n",
    "        optimizer.step()\n",
    "\n",
    "        # print statistics\n",
    "        running_loss += loss.item()\n",
    "        if i % 100 == 0:    # print every 2000 mini-batches\n",
    "            print('[Epoch: %d | Iteration: %5d] Loss: %.3f' %\n",
    "                  (epoch + 1, i + 1, running_loss / 2000))\n",
    "            running_loss = 0.0\n",
    "\n",
    "print('Finished Training')"
   ]
  },
  {
   "cell_type": "code",
   "execution_count": 82,
   "metadata": {},
   "outputs": [
    {
     "name": "stdout",
     "output_type": "stream",
     "text": [
      "Accuracy of the network on the 10000 test images: 71 %\n"
     ]
    }
   ],
   "source": [
    "#Evaluate\n",
    "correct = 0\n",
    "total = 0\n",
    "with torch.no_grad():\n",
    "    for data in testloader:\n",
    "        images, labels = data\n",
    "        outputs = net(images.cuda())\n",
    "        _, predicted = torch.max(outputs.data, 1)\n",
    "        total += labels.size(0)\n",
    "        correct += (predicted.cpu() == labels).sum().item()\n",
    "\n",
    "print('Accuracy of the network on the 10000 test images: %d %%' % (\n",
    "    100 * correct / total))"
   ]
  },
  {
   "cell_type": "code",
   "execution_count": 85,
   "metadata": {},
   "outputs": [
    {
     "name": "stdout",
     "output_type": "stream",
     "text": [
      "Accuracy of plane : 78 %\n",
      "Accuracy of   car : 80 %\n",
      "Accuracy of  bird : 60 %\n",
      "Accuracy of   cat : 43 %\n",
      "Accuracy of  deer : 60 %\n",
      "Accuracy of   dog : 61 %\n",
      "Accuracy of  frog : 80 %\n",
      "Accuracy of horse : 70 %\n",
      "Accuracy of  ship : 87 %\n",
      "Accuracy of truck : 75 %\n"
     ]
    }
   ],
   "source": [
    "class_correct = list(0. for i in range(10))\n",
    "class_total = list(0. for i in range(10))\n",
    "with torch.no_grad():\n",
    "    for data in testloader:\n",
    "        images, labels = data\n",
    "        outputs = net(images.cuda())\n",
    "        _, predicted = torch.max(outputs.cuda(), 1)\n",
    "        c = (predicted == labels.cuda()).squeeze()\n",
    "        for i in range(4):\n",
    "            label = labels[i]\n",
    "            class_correct[label] += c[i].item()\n",
    "            class_total[label] += 1\n",
    "\n",
    "\n",
    "for i in range(10):\n",
    "    print('Accuracy of %5s : %2d %%' % (\n",
    "        classes[i], 100 * class_correct[i] / class_total[i]))"
   ]
  },
  {
   "cell_type": "markdown",
   "metadata": {},
   "source": [
    "Much better than previous result."
   ]
  },
  {
   "cell_type": "code",
   "execution_count": 94,
   "metadata": {},
   "outputs": [
    {
     "data": {
      "image/png": "[encoded data removed]",
      "text/plain": [
       "<matplotlib.figure.Figure at 0x7f2111c30828>"
      ]
     },
     "metadata": {
      "needs_background": "light"
     },
     "output_type": "display_data"
    },
    {
     "name": "stdout",
     "output_type": "stream",
     "text": [
      "GroundTruth:    cat  ship  ship plane  frog  frog\n"
     ]
    }
   ],
   "source": [
    "#Take a look at some sample\n",
    "testloader = torch.utils.data.DataLoader(testset, batch_size=6,\n",
    "                                         shuffle=False, num_workers=6)\n",
    "dataiter = iter(testloader)\n",
    "images, labels = dataiter.next()\n",
    "\n",
    "# print images\n",
    "plt.figure(figsize = (20,2))\n",
    "imshow(torchvision.utils.make_grid(images))\n",
    "print('GroundTruth: ', ' '.join('%5s' % classes[labels[j]] for j in range(6)))"
   ]
  }
 ],
 "metadata": {
  "kernelspec": {
   "display_name": "Python 3",
   "language": "python",
   "name": "python3"
  },
  "language_info": {
   "codemirror_mode": {
    "name": "ipython",
    "version": 3
   },
   "file_extension": ".py",
   "mimetype": "text/x-python",
   "name": "python",
   "nbconvert_exporter": "python",
   "pygments_lexer": "ipython3",
   "version": "3.7.3"
  }
 },
 "nbformat": 4,
 "nbformat_minor": 1
}
